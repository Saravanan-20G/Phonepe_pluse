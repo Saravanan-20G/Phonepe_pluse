{
 "cells": [
  {
   "cell_type": "code",
   "execution_count": 2,
   "metadata": {},
   "outputs": [
    {
     "name": "stdout",
     "output_type": "stream",
     "text": [
      "Collecting psycopg2\n",
      "  Using cached psycopg2-2.9.9-cp311-cp311-win_amd64.whl.metadata (4.5 kB)\n",
      "Using cached psycopg2-2.9.9-cp311-cp311-win_amd64.whl (1.2 MB)\n",
      "Installing collected packages: psycopg2\n",
      "Successfully installed psycopg2-2.9.9\n",
      "Note: you may need to restart the kernel to use updated packages.\n"
     ]
    }
   ],
   "source": [
    "pip install psycopg2"
   ]
  },
  {
   "cell_type": "code",
   "execution_count": 76,
   "metadata": {},
   "outputs": [],
   "source": [
    "import psycopg2"
   ]
  },
  {
   "cell_type": "code",
   "execution_count": 107,
   "metadata": {},
   "outputs": [],
   "source": [
    "p_db= psycopg2.connect(host='localhost', user='postgres', password='123456', database='phonepe_pulse', port=5432)\n",
    "cursor= p_db.cursor()"
   ]
  },
  {
   "cell_type": "code",
   "execution_count": 78,
   "metadata": {},
   "outputs": [],
   "source": [
    "import pandas as pd\n",
    "import json\n",
    "import os"
   ]
  },
  {
   "cell_type": "code",
   "execution_count": null,
   "metadata": {},
   "outputs": [],
   "source": [
    "#Agg Trans"
   ]
  },
  {
   "cell_type": "code",
   "execution_count": 79,
   "metadata": {},
   "outputs": [],
   "source": [
    "path = \"C:\\\\Users\\\\Saravanan\\\\OneDrive\\\\Desktop\\\\PhonePe\\\\pulse\\\\data\\\\aggregated\\\\transaction\\\\country\\\\india\\\\state\\\\\"\n",
    "Agg_state=os.listdir(path)"
   ]
  },
  {
   "cell_type": "code",
   "execution_count": 80,
   "metadata": {},
   "outputs": [],
   "source": [
    "AT={'State':[], 'Year':[],'Quarter':[],'Transacion_type':[], 'Transacion_count':[], 'Transacion_amount':[]}\n",
    "\n",
    "for i in Agg_state:\n",
    "    a_i=path+i+\"/\"\n",
    "    Agg_year=os.listdir(a_i)\n",
    "\n",
    "    for j in Agg_year:\n",
    "        a_j=a_i+j+\"/\"\n",
    "        Agg_year_list=os.listdir(a_j)\n",
    "\n",
    "        for k in Agg_year_list:\n",
    "            a_k=a_j+k\n",
    "            Data=open(a_k,'r')\n",
    "            D=json.load(Data)\n",
    "\n",
    "            for z in D['data']['transactionData']:\n",
    "              Name=z['name']\n",
    "              count = z['paymentInstruments'][0]['count']\n",
    "              amount = z['paymentInstruments'][0]['amount']\n",
    "\n",
    "              AT['Transacion_type'].append(Name)\n",
    "              AT['Transacion_count'].append(count)\n",
    "              AT['Transacion_amount'].append(amount)\n",
    "              AT['State'].append(i)\n",
    "              AT['Year'].append(j)\n",
    "              AT['Quarter'].append(int(k.strip('.json')))\n",
    "\n",
    "\n",
    "Agg_T=pd.DataFrame(AT)\n",
    "#print(Agg_T)"
   ]
  },
  {
   "cell_type": "markdown",
   "metadata": {},
   "source": [
    "Agg User"
   ]
  },
  {
   "cell_type": "code",
   "execution_count": 81,
   "metadata": {},
   "outputs": [],
   "source": [
    "path2=\"C:\\\\Users\\Saravanan\\\\OneDrive\\\\Desktop\\\\PhonePe\\\\pulse\\\\data\\\\aggregated\\\\user\\\\country\\\\india\\\\state\\\\\"\n",
    "Agg_state_User=os.listdir(path2)"
   ]
  },
  {
   "cell_type": "code",
   "execution_count": 82,
   "metadata": {},
   "outputs": [],
   "source": [
    "AU = {'Brand_type': [],'Users_count': [],'Percentage': [],'State': [],'Year': [],'Quarter': []}"
   ]
  },
  {
   "cell_type": "code",
   "execution_count": 83,
   "metadata": {},
   "outputs": [],
   "source": [
    "for i in Agg_state_User:\n",
    "    p_i = path2 + i + \"/\"\n",
    "    Agg_user_year = os.listdir(p_i)\n",
    "\n",
    "    for j in Agg_user_year:\n",
    "        p_j = p_i + j + \"/\"\n",
    "        Agg_user_year_list = os.listdir(p_j)\n",
    "\n",
    "        for k in Agg_user_year_list:\n",
    "            p_k = p_j + k\n",
    "            with open(p_k, 'r') as Data:\n",
    "                B = json.load(Data)\n",
    "\n",
    "            #print(B)\n",
    "\n",
    "            if B['data'].get(\"usersByDevice\") is not None:\n",
    "\n",
    "                for z in B['data'][\"usersByDevice\"]:\n",
    "                 brand = z['brand']\n",
    "                 count = z['count']\n",
    "                 percen = z['percentage']\n",
    "\n",
    "                 AU['Brand_type'].append(brand)\n",
    "                 AU['Users_count'].append(count)\n",
    "                 AU['Percentage'].append(percen)\n",
    "                 AU['State'].append(i)\n",
    "                 AU['Year'].append(j)\n",
    "                 AU['Quarter'].append(int(k.strip('.json')))\n",
    "\n",
    "\n",
    "Agg_u=pd.DataFrame(AU)\n",
    "#print(Agg_u)"
   ]
  },
  {
   "cell_type": "code",
   "execution_count": null,
   "metadata": {},
   "outputs": [],
   "source": [
    "Agg_u"
   ]
  },
  {
   "cell_type": "code",
   "execution_count": null,
   "metadata": {},
   "outputs": [],
   "source": [
    "#Map Trans"
   ]
  },
  {
   "cell_type": "code",
   "execution_count": 84,
   "metadata": {},
   "outputs": [],
   "source": [
    "path3=\"C:\\\\Users\\\\Saravanan\\\\OneDrive\\\\Desktop\\\\PhonePe\\\\pulse\\\\data\\\\map\\\\transaction\\\\hover\\\\country\\\\india\\\\state\\\\\"\n",
    "Map_Tran=os.listdir(path3)"
   ]
  },
  {
   "cell_type": "code",
   "execution_count": 85,
   "metadata": {},
   "outputs": [],
   "source": [
    "MT={'State':[], 'Year':[],'Quarter':[],'Districts':[], 'Transaction_Count':[], 'Transaction_amount':[]}"
   ]
  },
  {
   "cell_type": "code",
   "execution_count": 86,
   "metadata": {},
   "outputs": [],
   "source": [
    "for i in Map_Tran:\n",
    "    a_i=path3+i+\"/\"\n",
    "    Map_year=os.listdir(a_i)\n",
    "\n",
    "    for j in Map_year:\n",
    "        a_j=a_i+j+\"/\"\n",
    "        Map_year_list=os.listdir(a_j)\n",
    "\n",
    "        for k in Map_year_list:\n",
    "            a_k=a_j+k\n",
    "            Data=open(a_k,'r')\n",
    "            D=json.load(Data)\n",
    "            #print(D)\n",
    "\n",
    "            for z in D['data']['hoverDataList']:\n",
    "              Name=z['name']\n",
    "              count = z['metric'][0]['count']\n",
    "              amount = z['metric'][0]['amount']\n",
    "\n",
    "              MT['Districts'].append(Name)\n",
    "              MT['Transaction_Count'].append(count)\n",
    "              MT['Transaction_amount'].append(amount)\n",
    "              MT['State'].append(i)\n",
    "              MT['Year'].append(j)\n",
    "              MT['Quarter'].append(int(k.strip('.json')))\n",
    "\n",
    "Map_T=pd.DataFrame(MT)\n",
    "#print(Map_T)"
   ]
  },
  {
   "cell_type": "code",
   "execution_count": 79,
   "metadata": {},
   "outputs": [
    {
     "data": {
      "text/html": [
       "<div>\n",
       "<style scoped>\n",
       "    .dataframe tbody tr th:only-of-type {\n",
       "        vertical-align: middle;\n",
       "    }\n",
       "\n",
       "    .dataframe tbody tr th {\n",
       "        vertical-align: top;\n",
       "    }\n",
       "\n",
       "    .dataframe thead th {\n",
       "        text-align: right;\n",
       "    }\n",
       "</style>\n",
       "<table border=\"1\" class=\"dataframe\">\n",
       "  <thead>\n",
       "    <tr style=\"text-align: right;\">\n",
       "      <th></th>\n",
       "      <th>State</th>\n",
       "      <th>Year</th>\n",
       "      <th>Quarter</th>\n",
       "      <th>Districts</th>\n",
       "      <th>Transaction_Count</th>\n",
       "      <th>Transaction_amount</th>\n",
       "    </tr>\n",
       "  </thead>\n",
       "  <tbody>\n",
       "    <tr>\n",
       "      <th>0</th>\n",
       "      <td>andaman-&amp;-nicobar-islands</td>\n",
       "      <td>2018</td>\n",
       "      <td>1</td>\n",
       "      <td>north and middle andaman district</td>\n",
       "      <td>442</td>\n",
       "      <td>9.316631e+05</td>\n",
       "    </tr>\n",
       "    <tr>\n",
       "      <th>1</th>\n",
       "      <td>andaman-&amp;-nicobar-islands</td>\n",
       "      <td>2018</td>\n",
       "      <td>1</td>\n",
       "      <td>south andaman district</td>\n",
       "      <td>5688</td>\n",
       "      <td>1.256025e+07</td>\n",
       "    </tr>\n",
       "    <tr>\n",
       "      <th>2</th>\n",
       "      <td>andaman-&amp;-nicobar-islands</td>\n",
       "      <td>2018</td>\n",
       "      <td>1</td>\n",
       "      <td>nicobars district</td>\n",
       "      <td>528</td>\n",
       "      <td>1.139849e+06</td>\n",
       "    </tr>\n",
       "    <tr>\n",
       "      <th>3</th>\n",
       "      <td>andaman-&amp;-nicobar-islands</td>\n",
       "      <td>2018</td>\n",
       "      <td>2</td>\n",
       "      <td>north and middle andaman district</td>\n",
       "      <td>825</td>\n",
       "      <td>1.317863e+06</td>\n",
       "    </tr>\n",
       "    <tr>\n",
       "      <th>4</th>\n",
       "      <td>andaman-&amp;-nicobar-islands</td>\n",
       "      <td>2018</td>\n",
       "      <td>2</td>\n",
       "      <td>south andaman district</td>\n",
       "      <td>9395</td>\n",
       "      <td>2.394824e+07</td>\n",
       "    </tr>\n",
       "    <tr>\n",
       "      <th>...</th>\n",
       "      <td>...</td>\n",
       "      <td>...</td>\n",
       "      <td>...</td>\n",
       "      <td>...</td>\n",
       "      <td>...</td>\n",
       "      <td>...</td>\n",
       "    </tr>\n",
       "    <tr>\n",
       "      <th>17559</th>\n",
       "      <td>west-bengal</td>\n",
       "      <td>2023</td>\n",
       "      <td>4</td>\n",
       "      <td>nadia district</td>\n",
       "      <td>36242432</td>\n",
       "      <td>6.879568e+10</td>\n",
       "    </tr>\n",
       "    <tr>\n",
       "      <th>17560</th>\n",
       "      <td>west-bengal</td>\n",
       "      <td>2023</td>\n",
       "      <td>4</td>\n",
       "      <td>birbhum district</td>\n",
       "      <td>20708496</td>\n",
       "      <td>3.690499e+10</td>\n",
       "    </tr>\n",
       "    <tr>\n",
       "      <th>17561</th>\n",
       "      <td>west-bengal</td>\n",
       "      <td>2023</td>\n",
       "      <td>4</td>\n",
       "      <td>purba medinipur district</td>\n",
       "      <td>40572042</td>\n",
       "      <td>7.981990e+10</td>\n",
       "    </tr>\n",
       "    <tr>\n",
       "      <th>17562</th>\n",
       "      <td>west-bengal</td>\n",
       "      <td>2023</td>\n",
       "      <td>4</td>\n",
       "      <td>maldah district</td>\n",
       "      <td>34654950</td>\n",
       "      <td>6.416729e+10</td>\n",
       "    </tr>\n",
       "    <tr>\n",
       "      <th>17563</th>\n",
       "      <td>west-bengal</td>\n",
       "      <td>2023</td>\n",
       "      <td>4</td>\n",
       "      <td>darjiling district</td>\n",
       "      <td>16807885</td>\n",
       "      <td>2.793986e+10</td>\n",
       "    </tr>\n",
       "  </tbody>\n",
       "</table>\n",
       "<p>17564 rows × 6 columns</p>\n",
       "</div>"
      ],
      "text/plain": [
       "                           State  Year  Quarter  \\\n",
       "0      andaman-&-nicobar-islands  2018        1   \n",
       "1      andaman-&-nicobar-islands  2018        1   \n",
       "2      andaman-&-nicobar-islands  2018        1   \n",
       "3      andaman-&-nicobar-islands  2018        2   \n",
       "4      andaman-&-nicobar-islands  2018        2   \n",
       "...                          ...   ...      ...   \n",
       "17559                west-bengal  2023        4   \n",
       "17560                west-bengal  2023        4   \n",
       "17561                west-bengal  2023        4   \n",
       "17562                west-bengal  2023        4   \n",
       "17563                west-bengal  2023        4   \n",
       "\n",
       "                               Districts  Transaction_Count  \\\n",
       "0      north and middle andaman district                442   \n",
       "1                 south andaman district               5688   \n",
       "2                      nicobars district                528   \n",
       "3      north and middle andaman district                825   \n",
       "4                 south andaman district               9395   \n",
       "...                                  ...                ...   \n",
       "17559                     nadia district           36242432   \n",
       "17560                   birbhum district           20708496   \n",
       "17561           purba medinipur district           40572042   \n",
       "17562                    maldah district           34654950   \n",
       "17563                 darjiling district           16807885   \n",
       "\n",
       "       Transaction_amount  \n",
       "0            9.316631e+05  \n",
       "1            1.256025e+07  \n",
       "2            1.139849e+06  \n",
       "3            1.317863e+06  \n",
       "4            2.394824e+07  \n",
       "...                   ...  \n",
       "17559        6.879568e+10  \n",
       "17560        3.690499e+10  \n",
       "17561        7.981990e+10  \n",
       "17562        6.416729e+10  \n",
       "17563        2.793986e+10  \n",
       "\n",
       "[17564 rows x 6 columns]"
      ]
     },
     "execution_count": 79,
     "metadata": {},
     "output_type": "execute_result"
    }
   ],
   "source": [
    "Map_T"
   ]
  },
  {
   "cell_type": "code",
   "execution_count": null,
   "metadata": {},
   "outputs": [],
   "source": [
    "#Map User"
   ]
  },
  {
   "cell_type": "code",
   "execution_count": 87,
   "metadata": {},
   "outputs": [],
   "source": [
    "path4=\"C:\\\\Users\\\\Saravanan\\\\OneDrive\\\\Desktop\\\\PhonePe\\\\pulse\\\\data\\\\map\\\\user\\\\hover\\\\country\\\\india\\\\state\\\\\"\n",
    "Map_User=os.listdir(path4)"
   ]
  },
  {
   "cell_type": "code",
   "execution_count": 88,
   "metadata": {},
   "outputs": [],
   "source": [
    "MU={'State':[], 'Year':[],'Quarter':[],'Districts':[], 'Registered_Users':[], 'app_opens':[]}"
   ]
  },
  {
   "cell_type": "code",
   "execution_count": 89,
   "metadata": {},
   "outputs": [],
   "source": [
    "for i in Map_User:\n",
    "    p_i = path4 + i + \"/\"\n",
    "    Map_user_year = os.listdir(p_i)\n",
    "\n",
    "    for j in Map_user_year:\n",
    "        p_j = p_i + j + \"/\"\n",
    "        Map_user_year_list = os.listdir(p_j)\n",
    "\n",
    "        for k in Map_user_year_list:\n",
    "            p_k = p_j + k\n",
    "            with open(p_k, 'r') as Data:\n",
    "                B = json.load(Data)\n",
    "\n",
    "            #print(B)\n",
    "\n",
    "            for z in B['data'][\"hoverData\"]:\n",
    "                 region_name = z\n",
    "                 reg_users = B['data'][\"hoverData\"][z]['registeredUsers']\n",
    "                 appOpens = B['data'][\"hoverData\"][z]['appOpens']\n",
    "\n",
    "                 \n",
    "                 MU['Districts'].append(region_name)\n",
    "                 MU['Registered_Users'].append(reg_users)\n",
    "                 MU['app_opens'].append(appOpens)\n",
    "                 MU['State'].append(i)\n",
    "                 MU['Year'].append(j)\n",
    "                 MU['Quarter'].append(int(k.strip('.json')))\n",
    "\n",
    "\n",
    "Map_u=pd.DataFrame(MU)\n",
    "#Map_u"
   ]
  },
  {
   "cell_type": "code",
   "execution_count": null,
   "metadata": {},
   "outputs": [],
   "source": [
    "#Top Trans"
   ]
  },
  {
   "cell_type": "code",
   "execution_count": 90,
   "metadata": {},
   "outputs": [],
   "source": [
    "path5=\"C:\\\\Users\\\\Saravanan\\\\OneDrive\\\\Desktop\\\\PhonePe\\\\pulse\\\\data\\\\top\\\\transaction\\\\country\\\\india\\\\state\\\\\"\n",
    "Map_Tran=os.listdir(path5)"
   ]
  },
  {
   "cell_type": "code",
   "execution_count": 91,
   "metadata": {},
   "outputs": [],
   "source": [
    "TT={'State':[], 'Year':[],'Quater':[],'Pincodes':[], 'Transaction_count':[], 'Transaction_amount':[]}"
   ]
  },
  {
   "cell_type": "code",
   "execution_count": 92,
   "metadata": {},
   "outputs": [],
   "source": [
    "for state in Map_Tran:\n",
    "    state_path=path5+state+\"/\"\n",
    "    top_year=os.listdir(state_path)\n",
    "    for year in top_year:\n",
    "        year_path=state_path+year+\"/\"\n",
    "        top_year_list=os.listdir(year_path)\n",
    "        for j_file in top_year_list:\n",
    "            j_file_path=year_path+j_file\n",
    "            mode_of_operation='r'\n",
    "            Data=open(j_file_path,mode_of_operation)\n",
    "            D7=json.load(Data)\n",
    "            #print(D7)\n",
    "            for data in D7['data']['pincodes']:\n",
    "              entityname=data['entityName']\n",
    "              count=data['metric']['count']\n",
    "              amount=data['metric']['amount']\n",
    "\n",
    "              TT['Pincodes'].append(entityname)\n",
    "              TT['Transaction_count'].append(count)\n",
    "              TT['Transaction_amount'].append(amount)\n",
    "              TT['State'].append(state)\n",
    "              TT['Year'].append(year)\n",
    "              TT['Quater'].append(int(j_file.strip('.json')))\n",
    "\n",
    "Top_trans=pd.DataFrame(TT)\n",
    "#print(Top_trans)"
   ]
  },
  {
   "cell_type": "code",
   "execution_count": null,
   "metadata": {},
   "outputs": [],
   "source": [
    "#Top User"
   ]
  },
  {
   "cell_type": "code",
   "execution_count": 93,
   "metadata": {},
   "outputs": [],
   "source": [
    "path6=\"C:\\\\Users\\\\Saravanan\\\\OneDrive\\\\Desktop\\\\PhonePe\\\\pulse\\\\data\\\\top\\\\user\\\\country\\\\india\\\\state\\\\\"\n",
    "Map_Tran=os.listdir(path6)"
   ]
  },
  {
   "cell_type": "code",
   "execution_count": 94,
   "metadata": {},
   "outputs": [],
   "source": [
    "TU={'State':[], 'Year':[],'Quater':[],'Pincodes':[], 'Registered_Users':[]}"
   ]
  },
  {
   "cell_type": "code",
   "execution_count": 95,
   "metadata": {},
   "outputs": [],
   "source": [
    "for state in Map_Tran:\n",
    "    state_path=path6+state+\"/\"\n",
    "    top_year=os.listdir(state_path)\n",
    "    for year in top_year:\n",
    "        year_path=state_path+year+\"/\"\n",
    "        top_year_list=os.listdir(year_path)\n",
    "        for j_file in top_year_list:\n",
    "            j_file_path=year_path+j_file\n",
    "            mode_of_operation='r'\n",
    "            Data=open(j_file_path,mode_of_operation)\n",
    "            D8=json.load(Data)\n",
    "            #print(D8)\n",
    "            try:\n",
    "                for data in D8['data']['pincodes']:\n",
    "                    pincodes=data['name']\n",
    "                    registereduser=data['registeredUsers']\n",
    "\n",
    "                    TU['Pincodes'].append(pincodes)\n",
    "                    TU['Registered_Users'].append(registereduser)\n",
    "                    TU['State'].append(state)\n",
    "                    TU['Year'].append(year)\n",
    "                    TU['Quater'].append(int(j_file.strip('.json')))\n",
    "            except:\n",
    "                 pass\n",
    "\n",
    "Top_user=pd.DataFrame(TU)\n",
    "#print(Top_user)"
   ]
  },
  {
   "cell_type": "code",
   "execution_count": null,
   "metadata": {},
   "outputs": [],
   "source": [
    "#Agg Trans"
   ]
  },
  {
   "cell_type": "code",
   "execution_count": 96,
   "metadata": {},
   "outputs": [],
   "source": [
    "create_query='''create table if not exists agg_transaction(State VARCHAR(200),\n",
    "                                                            Year int,\n",
    "                                                            Quater int,\n",
    "                                                            Transaction_type VARCHAR(200),\n",
    "                                                            Transaction_Count BIGINT,\n",
    "                                                            Transaction_Amount BIGINT\n",
    "                                                            )'''\n",
    "cursor.execute(create_query)\n",
    "p_db.commit()\n",
    "        \n",
    "insert_query=''' INSERT into agg_transaction(State, Year, Quater, Transaction_type, Transaction_Count, Transaction_Amount )\n",
    "                    \n",
    "                                        \n",
    "                                        values(%s,%s,%s,%s,%s,%s)'''\n",
    "data_from_agg_transaction=Agg_T.values.tolist()\n",
    "\n",
    "cursor.executemany(insert_query,data_from_agg_transaction)\n",
    "p_db.commit()"
   ]
  },
  {
   "cell_type": "code",
   "execution_count": null,
   "metadata": {},
   "outputs": [],
   "source": [
    "#Agg User"
   ]
  },
  {
   "cell_type": "code",
   "execution_count": 97,
   "metadata": {},
   "outputs": [],
   "source": [
    "create_query='''create table if not exists agg_user(State VARCHAR(200),\n",
    "                                                            Year int,\n",
    "                                                            Quater int,\n",
    "                                                            Brands VARCHAR(200),\n",
    "                                                            Transaction_Count BIGINT,\n",
    "                                                            Percentage FLOAT\n",
    "                                                            )'''\n",
    "cursor.execute(create_query)\n",
    "p_db.commit()\n",
    "\n",
    "insert_query=''' INSERT into agg_user(State, Year, Quater, Brands, Transaction_Count, Percentage )\n",
    "\n",
    "\n",
    "                                        values(%s,%s,%s,%s,%s,%s)'''\n",
    "data_from_agg_user=Agg_u.values.tolist()\n",
    "\n",
    "cursor.executemany(insert_query,data_from_agg_user)\n",
    "p_db.commit()"
   ]
  },
  {
   "cell_type": "code",
   "execution_count": 98,
   "metadata": {},
   "outputs": [],
   "source": [
    "create_query='''create table if not exists map_transaction(State VARCHAR(200),\n",
    "                                                            Year int,\n",
    "                                                            Quater int,\n",
    "                                                            Districts VARCHAR(200),\n",
    "                                                            Transaction_Count BIGINT,\n",
    "                                                            Transaction_amount BIGINT\n",
    "                                                            )'''\n",
    "cursor.execute(create_query)\n",
    "p_db.commit()\n",
    "\n",
    "insert_query=''' INSERT into map_transaction(State, Year, Quater, Districts, Transaction_Count, Transaction_amount )\n",
    "\n",
    "\n",
    "                                        values(%s,%s,%s,%s,%s,%s)'''\n",
    "data_from_map_transaction=Map_T.values.tolist()\n",
    "\n",
    "cursor.executemany(insert_query,data_from_map_transaction)\n",
    "p_db.commit()\n",
    "\n"
   ]
  },
  {
   "cell_type": "code",
   "execution_count": 99,
   "metadata": {},
   "outputs": [],
   "source": [
    "create_query='''create table if not exists map_user(State VARCHAR(200),\n",
    "                                                            Year int,\n",
    "                                                            Quater int,\n",
    "                                                            Districts VARCHAR(200),\n",
    "                                                            Registered_Users BIGINT,\n",
    "                                                            app_opens BIGINT\n",
    "                                                            )'''\n",
    "cursor.execute(create_query)\n",
    "p_db.commit()\n",
    "        \n",
    "insert_query=''' INSERT into map_user(State, Year, Quater, Districts, Registered_Users, app_opens )\n",
    "                    \n",
    "                                        \n",
    "                                        values(%s,%s,%s,%s,%s,%s)'''\n",
    "data_from_map_user=Map_u.values.tolist()\n",
    "\n",
    "cursor.executemany(insert_query,data_from_map_user)\n",
    "p_db.commit()\n",
    "\n",
    "# cursor.close()\n",
    "# p_db.close()"
   ]
  },
  {
   "cell_type": "code",
   "execution_count": 108,
   "metadata": {},
   "outputs": [],
   "source": [
    "create_query='''create table if not exists top_transaction(State VARCHAR(200),\n",
    "                                                            Year int,\n",
    "                                                            Quater int,\n",
    "                                                            Pincodes INT,\n",
    "                                                            Transaction_count BIGINT,\n",
    "                                                            Transaction_amount BIGINT\n",
    "                                                            )'''\n",
    "cursor.execute(create_query)\n",
    "p_db.commit()\n",
    "\n",
    "insert_query=''' INSERT into top_transaction(State, Year, Quater, Pincodes, Transaction_count, Transaction_amount )\n",
    "\n",
    "\n",
    "                                        values(%s,%s,%s,%s,%s,%s)'''\n",
    "data_from_top_transaction=Top_trans.values.tolist()\n",
    "\n",
    "cursor.executemany(insert_query,data_from_top_transaction)\n",
    "p_db.commit()"
   ]
  },
  {
   "cell_type": "code",
   "execution_count": 109,
   "metadata": {},
   "outputs": [],
   "source": [
    "create_query='''create table if not exists top_user(State VARCHAR(200),\n",
    "                                                            Year int,\n",
    "                                                            Quater int,\n",
    "                                                            Pincodes INT,\n",
    "                                                            Registered_Users BIGINT\n",
    "                                                            )'''\n",
    "cursor.execute(create_query)\n",
    "p_db.commit()\n",
    "\n",
    "insert_query=''' INSERT into top_user(State, Year, Quater, Pincodes, Registered_Users )\n",
    "\n",
    "\n",
    "                                        values(%s,%s,%s,%s,%s)'''\n",
    "data_from_top_user=Top_user.values.tolist()\n",
    "\n",
    "cursor.executemany(insert_query,data_from_top_user)\n",
    "p_db.commit()"
   ]
  },
  {
   "cell_type": "code",
   "execution_count": 115,
   "metadata": {},
   "outputs": [],
   "source": [
    "\n",
    "\n",
    "#agg_transaction_df\n",
    "cursor.execute('select * from agg_transaction')\n",
    "p_db.commit()\n",
    "df1=cursor.fetchall()\n",
    "Aggregate_transaction = pd.DataFrame(df1,columns=('State','Year','Quater','Transaction_Type','Transaction_Count','Transaction_Amount'))\n",
    "\n",
    "\n",
    "#agg_user_df\n",
    "cursor.execute('select * from agg_user')\n",
    "p_db.commit()\n",
    "df2=cursor.fetchall()\n",
    "Aggregate_user = pd.DataFrame(df2,columns=('State','Year','Quater','Brands','Transaction_Count','Percentage'))\n",
    "\n",
    "\n",
    "#map_transaction_df\n",
    "cursor.execute('select * from map_transaction')\n",
    "p_db.commit()\n",
    "df3=cursor.fetchall()\n",
    "Map_transaction = pd.DataFrame(df3,columns=('State','Year','Quater','Districts','Transaction_Count','Transaction_Amount'))\n",
    "\n",
    "\n",
    "#map_user_df\n",
    "cursor.execute('select * from map_user')\n",
    "p_db.commit()\n",
    "df4=cursor.fetchall()\n",
    "Map_user = pd.DataFrame(df4,columns=('State','Year','Quater','Districts','Registered_Users','App_Opens'))\n",
    "\n",
    "#top_transaction_df\n",
    "cursor.execute('select * from top_transaction')\n",
    "p_db.commit()\n",
    "df5=cursor.fetchall()\n",
    "Top_transaction = pd.DataFrame(df5,columns=('State','Year','Quater','Pincodes','Transaction_Count','Transaction_Amount'))\n",
    "#Top_transaction\n",
    "\n",
    "#top_user_df\n",
    "cursor.execute('select * from top_user')\n",
    "p_db.commit()\n",
    "df6=cursor.fetchall()\n",
    "Top_user = pd.DataFrame(df6,columns=('State','Year','Quater','Pincodes','Registered_Users'))\n",
    "#Top_user"
   ]
  }
 ],
 "metadata": {
  "kernelspec": {
   "display_name": "Python 3",
   "language": "python",
   "name": "python3"
  },
  "language_info": {
   "codemirror_mode": {
    "name": "ipython",
    "version": 3
   },
   "file_extension": ".py",
   "mimetype": "text/x-python",
   "name": "python",
   "nbconvert_exporter": "python",
   "pygments_lexer": "ipython3",
   "version": "3.11.8"
  }
 },
 "nbformat": 4,
 "nbformat_minor": 2
}
